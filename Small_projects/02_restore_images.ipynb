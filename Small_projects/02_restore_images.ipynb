{
 "cells": [
  {
   "cell_type": "code",
   "execution_count": 1,
   "metadata": {},
   "outputs": [],
   "source": [
    "import cv2 as cv"
   ]
  },
  {
   "cell_type": "code",
   "execution_count": 14,
   "metadata": {},
   "outputs": [
    {
     "name": "stdout",
     "output_type": "stream",
     "text": [
      "210.0\n"
     ]
    },
    {
     "data": {
      "text/plain": [
       "True"
      ]
     },
     "execution_count": 14,
     "metadata": {},
     "output_type": "execute_result"
    }
   ],
   "source": [
    "def_image = cv.imread(\"images/old_photo_01.jpg\", 0)\n",
    "ret, mask = cv.threshold(def_image, 210, 255, cv.THRESH_BINARY)\n",
    "print(ret)\n",
    "cv.imwrite(\"mask_7.jpg\",mask)"
   ]
  },
  {
   "cell_type": "code",
   "execution_count": 16,
   "metadata": {},
   "outputs": [
    {
     "data": {
      "text/plain": [
       "True"
      ]
     },
     "execution_count": 16,
     "metadata": {},
     "output_type": "execute_result"
    }
   ],
   "source": [
    "restored_img = cv.inpaint(def_image, mask, 7, flags=cv.INPAINT_TELEA)\n",
    "cv.imwrite(\"images/restored_img_01.jpg\",restored_img)"
   ]
  },
  {
   "cell_type": "code",
   "execution_count": 2,
   "metadata": {},
   "outputs": [
    {
     "ename": "ModuleNotFoundError",
     "evalue": "No module named 'skimage'",
     "output_type": "error",
     "traceback": [
      "\u001b[1;31m---------------------------------------------------------------------------\u001b[0m",
      "\u001b[1;31mModuleNotFoundError\u001b[0m                       Traceback (most recent call last)",
      "\u001b[1;32mC:\\Temp\\ipykernel_3724\\1501793832.py\u001b[0m in \u001b[0;36m<module>\u001b[1;34m\u001b[0m\n\u001b[1;32m----> 1\u001b[1;33m \u001b[1;32mfrom\u001b[0m \u001b[0mskimage\u001b[0m\u001b[1;33m.\u001b[0m\u001b[0mrestoration\u001b[0m \u001b[1;32mimport\u001b[0m \u001b[0minpaint\u001b[0m\u001b[1;33m\u001b[0m\u001b[1;33m\u001b[0m\u001b[0m\n\u001b[0m",
      "\u001b[1;31mModuleNotFoundError\u001b[0m: No module named 'skimage'"
     ]
    }
   ],
   "source": [
    "from skimage.restoration import inpaint\n"
   ]
  },
  {
   "cell_type": "code",
   "execution_count": 3,
   "metadata": {},
   "outputs": [
    {
     "ename": "NameError",
     "evalue": "name 'whale_image' is not defined",
     "output_type": "error",
     "traceback": [
      "\u001b[1;31m---------------------------------------------------------------------------\u001b[0m",
      "\u001b[1;31mNameError\u001b[0m                                 Traceback (most recent call last)",
      "\u001b[1;32mC:\\Temp\\ipykernel_3724\\2482898179.py\u001b[0m in \u001b[0;36m<module>\u001b[1;34m\u001b[0m\n\u001b[0;32m     14\u001b[0m \u001b[1;33m\u001b[0m\u001b[0m\n\u001b[0;32m     15\u001b[0m \u001b[1;31m# Create the mask\u001b[0m\u001b[1;33m\u001b[0m\u001b[1;33m\u001b[0m\u001b[1;33m\u001b[0m\u001b[0m\n\u001b[1;32m---> 16\u001b[1;33m \u001b[0mmask\u001b[0m \u001b[1;33m=\u001b[0m \u001b[0mmake_mask\u001b[0m\u001b[1;33m(\u001b[0m\u001b[0mwhale_image\u001b[0m\u001b[1;33m)\u001b[0m\u001b[1;33m\u001b[0m\u001b[1;33m\u001b[0m\u001b[0m\n\u001b[0m\u001b[0;32m     17\u001b[0m \u001b[1;33m\u001b[0m\u001b[0m\n\u001b[0;32m     18\u001b[0m \u001b[1;31m# Apply the defect mask on the whale_image\u001b[0m\u001b[1;33m\u001b[0m\u001b[1;33m\u001b[0m\u001b[1;33m\u001b[0m\u001b[0m\n",
      "\u001b[1;31mNameError\u001b[0m: name 'whale_image' is not defined"
     ]
    }
   ],
   "source": [
    "def make_mask(image):\n",
    "    \"\"\"Create a mask to artificially defect the image.\"\"\"\n",
    "\n",
    "    mask = np.zeros(image.shape[:-1])\n",
    "\n",
    "    # Make 4 masks\n",
    "    mask[250:300, 1400:1600] = 1\n",
    "    mask[50:100, 300:433] = 1\n",
    "    mask[300:380, 1000:1200] = 1\n",
    "    mask[200:270, 750:950] = 1\n",
    "\n",
    "    return mask.astype(bool)\n",
    "\n",
    "\n",
    "# Create the mask\n",
    "mask = make_mask(whale_image)\n",
    "\n",
    "# Apply the defect mask on the whale_image\n",
    "image_defect = whale_image * ~mask[..., np.newaxis]\n",
    "\n",
    "compare(whale_image, image_defect, \"Artifically damaged image of a whale\")"
   ]
  },
  {
   "cell_type": "code",
   "execution_count": null,
   "metadata": {},
   "outputs": [],
   "source": [
    "\n",
    "restored_image = inpaint.inpaint_biharmonic(\n",
    "    image=image_defect, mask=mask, multichannel=True\n",
    ")\n",
    "\n",
    "compare(\n",
    "    image_defect,\n",
    "    restored_image,\n",
    "    \"Restored image after defects\",\n",
    "    title_original=\"Faulty Image\",\n",
    ")"
   ]
  },
  {
   "cell_type": "code",
   "execution_count": null,
   "metadata": {},
   "outputs": [],
   "source": []
  },
  {
   "cell_type": "code",
   "execution_count": 1,
   "metadata": {},
   "outputs": [
    {
     "ename": "ModuleNotFoundError",
     "evalue": "No module named 'ImagePipeline_utils'",
     "output_type": "error",
     "traceback": [
      "\u001b[1;31m---------------------------------------------------------------------------\u001b[0m",
      "\u001b[1;31mModuleNotFoundError\u001b[0m                       Traceback (most recent call last)",
      "\u001b[1;32mC:\\Temp\\ipykernel_26184\\1363831188.py\u001b[0m in \u001b[0;36m<module>\u001b[1;34m\u001b[0m\n\u001b[1;32m----> 1\u001b[1;33m \u001b[1;32mimport\u001b[0m \u001b[0mImagePipeline_utils\u001b[0m \u001b[1;32mas\u001b[0m \u001b[0mIP\u001b[0m\u001b[1;33m\u001b[0m\u001b[1;33m\u001b[0m\u001b[0m\n\u001b[0m\u001b[0;32m      2\u001b[0m \u001b[1;32mimport\u001b[0m \u001b[0mImageRestorer\u001b[0m\u001b[1;33m\u001b[0m\u001b[1;33m\u001b[0m\u001b[0m\n\u001b[0;32m      3\u001b[0m \u001b[0mrestorer\u001b[0m \u001b[1;33m=\u001b[0m \u001b[0mImageRestorer\u001b[0m\u001b[1;33m.\u001b[0m\u001b[0mImageRestorer\u001b[0m\u001b[1;33m(\u001b[0m\u001b[1;33m)\u001b[0m\u001b[1;33m\u001b[0m\u001b[1;33m\u001b[0m\u001b[0m\n",
      "\u001b[1;31mModuleNotFoundError\u001b[0m: No module named 'ImagePipeline_utils'"
     ]
    }
   ],
   "source": [
    "import ImagePipeline_utils as IP\n",
    "import ImageRestorer\n",
    "restorer = ImageRestorer.ImageRestorer()"
   ]
  },
  {
   "cell_type": "code",
   "execution_count": null,
   "metadata": {},
   "outputs": [],
   "source": []
  }
 ],
 "metadata": {
  "kernelspec": {
   "display_name": "Python 3.7.9 64-bit",
   "language": "python",
   "name": "python3"
  },
  "language_info": {
   "codemirror_mode": {
    "name": "ipython",
    "version": 3
   },
   "file_extension": ".py",
   "mimetype": "text/x-python",
   "name": "python",
   "nbconvert_exporter": "python",
   "pygments_lexer": "ipython3",
   "version": "3.7.9"
  },
  "orig_nbformat": 4,
  "vscode": {
   "interpreter": {
    "hash": "dee462b5ac3ce9c6183fc31797972f06951caa80a5376deb2eb8c081c74e9822"
   }
  }
 },
 "nbformat": 4,
 "nbformat_minor": 2
}
