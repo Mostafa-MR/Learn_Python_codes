{
 "cells": [
  {
   "cell_type": "code",
   "execution_count": 3,
   "metadata": {},
   "outputs": [],
   "source": [
    "import cv2 as cv"
   ]
  },
  {
   "cell_type": "code",
   "execution_count": 6,
   "metadata": {},
   "outputs": [
    {
     "data": {
      "text/plain": [
       "True"
      ]
     },
     "execution_count": 6,
     "metadata": {},
     "output_type": "execute_result"
    }
   ],
   "source": [
    "orig_image = cv.imread(\"images/rem_obj_01.jpg\")\n",
    "mask_img = cv.imread(\"images/rem_obj_01_mask.jpg\", 0)\n",
    "ret, mask = cv.threshold(mask_img, 240, 255, cv.THRESH_BINARY)\n",
    "cv.imwrite(\"images/mask_7.jpg\",mask)"
   ]
  },
  {
   "cell_type": "code",
   "execution_count": 7,
   "metadata": {},
   "outputs": [
    {
     "data": {
      "text/plain": [
       "True"
      ]
     },
     "execution_count": 7,
     "metadata": {},
     "output_type": "execute_result"
    }
   ],
   "source": [
    "restored_img = cv.inpaint(orig_image, mask, 7, flags=cv.INPAINT_TELEA)\n",
    "cv.imwrite(\"images/restored_img_01.jpg\",restored_img)"
   ]
  },
  {
   "cell_type": "code",
   "execution_count": null,
   "metadata": {},
   "outputs": [],
   "source": []
  }
 ],
 "metadata": {
  "kernelspec": {
   "display_name": "Python 3.7.9 64-bit",
   "language": "python",
   "name": "python3"
  },
  "language_info": {
   "codemirror_mode": {
    "name": "ipython",
    "version": 3
   },
   "file_extension": ".py",
   "mimetype": "text/x-python",
   "name": "python",
   "nbconvert_exporter": "python",
   "pygments_lexer": "ipython3",
   "version": "3.7.9"
  },
  "orig_nbformat": 4,
  "vscode": {
   "interpreter": {
    "hash": "dee462b5ac3ce9c6183fc31797972f06951caa80a5376deb2eb8c081c74e9822"
   }
  }
 },
 "nbformat": 4,
 "nbformat_minor": 2
}
